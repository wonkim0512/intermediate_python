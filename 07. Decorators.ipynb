{
 "cells": [
  {
   "cell_type": "markdown",
   "metadata": {},
   "source": [
    "# Decorators\n",
    "\n",
    "Decorators are functions which modify the functionality of another function. They help to make our code more Pythonic."
   ]
  },
  {
   "cell_type": "markdown",
   "metadata": {},
   "source": [
    "### Everything in Python is an object"
   ]
  },
  {
   "cell_type": "code",
   "execution_count": 1,
   "metadata": {},
   "outputs": [
    {
     "name": "stdout",
     "output_type": "stream",
     "text": [
      "Hi, Won\n"
     ]
    }
   ],
   "source": [
    "def hi(name = \"Won\"):\n",
    "    print(\"Hi, \" + name)\n",
    "\n",
    "hi()"
   ]
  },
  {
   "cell_type": "code",
   "execution_count": 2,
   "metadata": {},
   "outputs": [
    {
     "name": "stdout",
     "output_type": "stream",
     "text": [
      "Hi, Won\n"
     ]
    }
   ],
   "source": [
    "# We can even assign a function to a variable like\n",
    "greet = hi\n",
    "greet()\n",
    "# Don't use parentheses here because we are not calling the function hi\n",
    "# instead we are just putting it into the greet variable."
   ]
  },
  {
   "cell_type": "code",
   "execution_count": 3,
   "metadata": {},
   "outputs": [
    {
     "name": "stdout",
     "output_type": "stream",
     "text": [
      "Hi, Won\n"
     ]
    }
   ],
   "source": [
    "del hi\n",
    "#hi() # NameError\n",
    "greet()"
   ]
  },
  {
   "cell_type": "markdown",
   "metadata": {},
   "source": [
    "### Defining functions within functions\n",
    "In Python we can define functions inside other functions"
   ]
  },
  {
   "cell_type": "code",
   "execution_count": 4,
   "metadata": {},
   "outputs": [
    {
     "name": "stdout",
     "output_type": "stream",
     "text": [
      "Now you are inside the hi() function\n",
      "Now you are in the greet() function\n",
      "Now you are in the welcome() function\n",
      "now you are back in the hi() function\n"
     ]
    }
   ],
   "source": [
    "def hi(name = \"Won\"):\n",
    "    print(\"Now you are inside the hi() function\")\n",
    "    \n",
    "    def greet():\n",
    "        print(\"Now you are in the greet() function\")\n",
    "    \n",
    "    def welcome():\n",
    "        print(\"Now you are in the welcome() function\")\n",
    "    \n",
    "    greet()\n",
    "    welcome()\n",
    "    print(\"now you are back in the hi() function\")\n",
    "    \n",
    "hi()"
   ]
  },
  {
   "cell_type": "code",
   "execution_count": 5,
   "metadata": {
    "scrolled": true
   },
   "outputs": [],
   "source": [
    "# welcome() # NameError: name 'welcome' is not defined"
   ]
  },
  {
   "cell_type": "markdown",
   "metadata": {},
   "source": [
    "### Returning functions from within functions\n",
    "It is not necessary to execute a function within another function, we can return it as an output as well"
   ]
  },
  {
   "cell_type": "code",
   "execution_count": 6,
   "metadata": {},
   "outputs": [
    {
     "data": {
      "text/plain": [
       "<function __main__.hi.<locals>.greet>"
      ]
     },
     "execution_count": 6,
     "metadata": {},
     "output_type": "execute_result"
    }
   ],
   "source": [
    "def hi(name = \"Won\"):\n",
    "    def greet():\n",
    "        print(\"Now you are in the greet() function\")\n",
    "    \n",
    "    def welcome():\n",
    "        print(\"Now you are in the welcome() function\")\n",
    "        \n",
    "    if name == \"Won\":\n",
    "        return greet\n",
    "    \n",
    "    else:\n",
    "        return welcom\n",
    "    \n",
    "a = hi()\n",
    "a "
   ]
  },
  {
   "cell_type": "markdown",
   "metadata": {},
   "source": [
    "The output above clearly shows that **'a'** now points to the greet() function in hi()"
   ]
  },
  {
   "cell_type": "code",
   "execution_count": 7,
   "metadata": {},
   "outputs": [
    {
     "name": "stdout",
     "output_type": "stream",
     "text": [
      "Now you are in the greet() function\n"
     ]
    }
   ],
   "source": [
    "a()"
   ]
  },
  {
   "cell_type": "markdown",
   "metadata": {},
   "source": [
    "In the if/else clause we are returning greet and welcome, not greet() and welcome(). Its' because when you put a pair of parentheses after it, the function gets executed.\n",
    "\n",
    "When we write a = hi(), hi() ets executed and because the name is Won by default, the function greet is returned. If we change the statement to a = hi(name = \"David\") the the welcome function will be returned."
   ]
  },
  {
   "cell_type": "markdown",
   "metadata": {},
   "source": [
    "### Giving a function as an argument to another function"
   ]
  },
  {
   "cell_type": "code",
   "execution_count": 8,
   "metadata": {},
   "outputs": [
    {
     "name": "stdout",
     "output_type": "stream",
     "text": [
      "I'm doing something before executing hi()\n",
      "Hi, Won!\n"
     ]
    }
   ],
   "source": [
    "def hi():\n",
    "    return \"Hi, Won!\"\n",
    "\n",
    "def doSomethingBeforeHi(func):\n",
    "    print(\"I'm doing something before executing hi()\")\n",
    "    print(func())\n",
    "    \n",
    "doSomethingBeforeHi(hi)"
   ]
  },
  {
   "cell_type": "markdown",
   "metadata": {},
   "source": [
    "### Writing your first decorator"
   ]
  },
  {
   "cell_type": "code",
   "execution_count": 9,
   "metadata": {},
   "outputs": [
    {
     "name": "stdout",
     "output_type": "stream",
     "text": [
      "smells so bad\n"
     ]
    }
   ],
   "source": [
    "def new_decorator(func):\n",
    "    def wrapFunc():\n",
    "        print(\"before executing func()\")\n",
    "        func()\n",
    "        print(\"after executing func()\")\n",
    "        \n",
    "    return wrapFunc\n",
    "\n",
    "def funcToDecorate():\n",
    "    print(\"smells so bad\")\n",
    "    \n",
    "funcToDecorate()"
   ]
  },
  {
   "cell_type": "code",
   "execution_count": 10,
   "metadata": {},
   "outputs": [
    {
     "name": "stdout",
     "output_type": "stream",
     "text": [
      "before executing func()\n",
      "smells so bad\n",
      "after executing func()\n"
     ]
    }
   ],
   "source": [
    "funcToDecorate = new_decorator(funcToDecorate)\n",
    "funcToDecorate()"
   ]
  },
  {
   "cell_type": "markdown",
   "metadata": {},
   "source": [
    "This is exactly what the decorators do in Python. They warp a function and modify its behaviour in one way or the another.\n",
    "\n",
    "We can use the @ to make up a decorated function in a short way."
   ]
  },
  {
   "cell_type": "code",
   "execution_count": 11,
   "metadata": {},
   "outputs": [
    {
     "name": "stdout",
     "output_type": "stream",
     "text": [
      "before executing func()\n",
      "smells so bad\n",
      "after executing func()\n"
     ]
    }
   ],
   "source": [
    "@new_decorator\n",
    "def funcToDecorate():\n",
    "    print(\"smells so bad\")\n",
    "    \n",
    "funcToDecorate()"
   ]
  },
  {
   "cell_type": "markdown",
   "metadata": {},
   "source": [
    "That is, ***@new_decorator*** is just a short way of saying ***funcToDecorate = new_decorator(funcToDecorate)***"
   ]
  },
  {
   "cell_type": "markdown",
   "metadata": {},
   "source": [
    "Now there is one problem with our code."
   ]
  },
  {
   "cell_type": "code",
   "execution_count": 12,
   "metadata": {},
   "outputs": [
    {
     "name": "stdout",
     "output_type": "stream",
     "text": [
      "wrapFunc\n"
     ]
    }
   ],
   "source": [
    "print(funcToDecorate.__name__)"
   ]
  },
  {
   "cell_type": "markdown",
   "metadata": {},
   "source": [
    "Although we want to get its name \"funcToDecorate\", it was replaced by 'wrapFunc'. It overrode the name and docstirng of our function. Luckily Python provides us a simple function to sovle this problem and that is *functools.wraps*."
   ]
  },
  {
   "cell_type": "code",
   "execution_count": 13,
   "metadata": {},
   "outputs": [
    {
     "name": "stdout",
     "output_type": "stream",
     "text": [
      "funcToDecorate\n"
     ]
    }
   ],
   "source": [
    "from functools import wraps\n",
    "\n",
    "def new_decorator(func):\n",
    "    @wraps(func)\n",
    "    def wrapFunc():\n",
    "        print(\"before executing func()\")\n",
    "        func()\n",
    "        print(\"after executing func()\")\n",
    "        \n",
    "    return wrapFunc\n",
    "\n",
    "@new_decorator\n",
    "def funcToDecorate():\n",
    "    print(\"smells so bad!\")\n",
    "    \n",
    "print(funcToDecorate.__name__)"
   ]
  },
  {
   "cell_type": "markdown",
   "metadata": {},
   "source": [
    "## Use-cases\n",
    "### Authorization\n",
    "Decorators can help to check whether someone is authorized to use an endpoint in a web application. They are extensively used in Flask and Django."
   ]
  },
  {
   "cell_type": "code",
   "execution_count": 14,
   "metadata": {
    "collapsed": true
   },
   "outputs": [],
   "source": [
    "from functools import wraps\n",
    "\n",
    "def requires_auth(f):\n",
    "    @wraps(f)\n",
    "    def decorated(*args, **kwargs):\n",
    "        auth = request.autorization\n",
    "        if not auth or not chech_auth(auth.username, auth.password):\n",
    "            authenticate()  \n",
    "        return f(*args, **kwargs)\n",
    "    return decorated"
   ]
  },
  {
   "cell_type": "markdown",
   "metadata": {},
   "source": [
    "### Logging\n",
    "Logging is another area where the decorators are useful."
   ]
  },
  {
   "cell_type": "code",
   "execution_count": 15,
   "metadata": {},
   "outputs": [
    {
     "name": "stdout",
     "output_type": "stream",
     "text": [
      "addition_func was called\n"
     ]
    }
   ],
   "source": [
    "from functools import wraps\n",
    "\n",
    "def logit(f):\n",
    "    @wraps(f)\n",
    "    def with_logging(*args, **kwargs):\n",
    "        print(f.__name__ + \" was called\")\n",
    "        return f(*args, **kwargs)\n",
    "    return with_logging\n",
    "\n",
    "@logit\n",
    "def addition_func(x):\n",
    "    return x+x\n",
    "\n",
    "result = addition_func(4)"
   ]
  },
  {
   "cell_type": "markdown",
   "metadata": {},
   "source": [
    "## Decorators with Arguments\n",
    "@wraps is also a decorator. But, it takes an argument like any normal functions do. This is because when you use the @decorator syntax, you are applying a wrapper function with a single function as a parameter.\n",
    "\n",
    "### Nesting a Decorator Within a Function"
   ]
  },
  {
   "cell_type": "code",
   "execution_count": 16,
   "metadata": {
    "collapsed": true
   },
   "outputs": [],
   "source": [
    "from functools import wraps\n",
    "\n",
    "def logit(logfile = \"out.log\"):\n",
    "    def logging_decorator(func):\n",
    "        @wraps(func)\n",
    "        def wrapped_func(*args, **kwargs):\n",
    "            log_string = func.__name__ + \" was called\"\n",
    "            print(log_string)\n",
    "            \n",
    "            # open the logfile and append\n",
    "            with open(logfile, 'a') as opened_file:\n",
    "                # now we log to the specified logfile\n",
    "                opened_file.write(log_string + '\\n')\n",
    "                \n",
    "        return wrapped_func\n",
    "    return logging_decorator"
   ]
  },
  {
   "cell_type": "code",
   "execution_count": 17,
   "metadata": {},
   "outputs": [
    {
     "name": "stdout",
     "output_type": "stream",
     "text": [
      "myfunc1 was called\n"
     ]
    }
   ],
   "source": [
    "@logit()\n",
    "def myfunc1():\n",
    "    pass\n",
    "\n",
    "myfunc1()\n",
    "# A file called out.log now exists in my working direcotry, \n",
    "# with the above string"
   ]
  },
  {
   "cell_type": "code",
   "execution_count": 18,
   "metadata": {},
   "outputs": [
    {
     "name": "stdout",
     "output_type": "stream",
     "text": [
      "myfunc2 was called\n"
     ]
    }
   ],
   "source": [
    "@logit(logfile = \"func2.log\")\n",
    "def myfunc2():\n",
    "    pass\n",
    "\n",
    "myfunc2()\n",
    "# A file called func2.log now exists in my working directory,\n",
    "# with the above string"
   ]
  },
  {
   "cell_type": "markdown",
   "metadata": {},
   "source": [
    "### Decorator Classes\n",
    "Classes can also be used to build decorators. Let's rebuild logit as a class instead of a function."
   ]
  },
  {
   "cell_type": "code",
   "execution_count": 19,
   "metadata": {
    "collapsed": true
   },
   "outputs": [],
   "source": [
    "class Logit(object):\n",
    "    def __init__(self, logfile = \"out.log\"):\n",
    "        self.logfile = logfile\n",
    "        \n",
    "    def __call__(self, func):\n",
    "        log_string = func.__name + \" was called\"\n",
    "        print(log_string)\n",
    "        # open the logfile and append\n",
    "        with open(logfile, \"a\") as opened_file:\n",
    "            # now we log to the specified logfile\n",
    "            opened_file.write(log_string)\n",
    "        # now send a notification\n",
    "        self.notify()\n",
    "        \n",
    "    def notify(self):\n",
    "        # logit only logs, no more\n",
    "        pass"
   ]
  },
  {
   "cell_type": "markdown",
   "metadata": {},
   "source": [
    "This implementation has an additional advantage of being much cleaner than the nested function approach, and wrapping a function still will use the same syntax as before."
   ]
  },
  {
   "cell_type": "markdown",
   "metadata": {},
   "source": [
    "Now, let's subclass logit to add email functionality."
   ]
  },
  {
   "cell_type": "code",
   "execution_count": 20,
   "metadata": {
    "collapsed": true
   },
   "outputs": [],
   "source": [
    "class EmailLogit(Logit):\n",
    "    def __init__(self, email = \"admin@snu.ac.kr\", *args, **kwargs):\n",
    "        self.email = email\n",
    "        super(EmailLogit, self).__init__(*args, **kwargs)\n",
    "        \n",
    "    def notify(self):\n",
    "        # sending an email to self.email, but not be inplemented here\n",
    "        pass"
   ]
  }
 ],
 "metadata": {
  "kernelspec": {
   "display_name": "Python 3",
   "language": "python",
   "name": "python3"
  },
  "language_info": {
   "codemirror_mode": {
    "name": "ipython",
    "version": 3
   },
   "file_extension": ".py",
   "mimetype": "text/x-python",
   "name": "python",
   "nbconvert_exporter": "python",
   "pygments_lexer": "ipython3",
   "version": "3.6.1"
  }
 },
 "nbformat": 4,
 "nbformat_minor": 2
}
