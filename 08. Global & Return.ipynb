{
 "cells": [
  {
   "cell_type": "markdown",
   "metadata": {},
   "source": [
    "# Global & Return"
   ]
  },
  {
   "cell_type": "code",
   "execution_count": 1,
   "metadata": {},
   "outputs": [
    {
     "name": "stdout",
     "output_type": "stream",
     "text": [
      "7\n"
     ]
    }
   ],
   "source": [
    "def add(val1, val2):\n",
    "    return val1 + val2\n",
    "\n",
    "result = add(3, 4)\n",
    "print(result)"
   ]
  },
  {
   "cell_type": "markdown",
   "metadata": {},
   "source": [
    "The function above takes two values as input and then output their addition. We could have also done:"
   ]
  },
  {
   "cell_type": "code",
   "execution_count": 2,
   "metadata": {},
   "outputs": [
    {
     "name": "stdout",
     "output_type": "stream",
     "text": [
      "7\n"
     ]
    }
   ],
   "source": [
    "def add(val1, val2):\n",
    "    global result\n",
    "    result = val1 + val2\n",
    "\n",
    "add(3, 4)\n",
    "print(result)"
   ]
  },
  {
   "cell_type": "markdown",
   "metadata": {},
   "source": [
    "What does global mean here? Global variable means that we can access that variable outside the scope of the function as well. Let me denmostrate it with an example:"
   ]
  },
  {
   "cell_type": "code",
   "execution_count": 3,
   "metadata": {
    "collapsed": true
   },
   "outputs": [],
   "source": [
    "def add(val1, val2):\n",
    "    result = val1 + val2\n",
    "    \n",
    "add(2,4)\n",
    "# print(result) # NameError: name 'result' is not defined"
   ]
  },
  {
   "cell_type": "markdown",
   "metadata": {},
   "source": [
    "### Multiple return values\n",
    "What if I want to return two variables from a function instead of one? There are several ways."
   ]
  },
  {
   "cell_type": "code",
   "execution_count": 4,
   "metadata": {},
   "outputs": [
    {
     "name": "stdout",
     "output_type": "stream",
     "text": [
      "David\n",
      "26\n"
     ]
    }
   ],
   "source": [
    "def profile():\n",
    "    name = \"David\"\n",
    "    age = 26\n",
    "    return (name, age)\n",
    "\n",
    "print(profile()[0])\n",
    "print(profile()[1])"
   ]
  },
  {
   "cell_type": "code",
   "execution_count": 5,
   "metadata": {},
   "outputs": [
    {
     "name": "stdout",
     "output_type": "stream",
     "text": [
      "David\n",
      "26\n"
     ]
    }
   ],
   "source": [
    "def profile():\n",
    "    name = \"David\"\n",
    "    age = 26\n",
    "    return name, age\n",
    "\n",
    "profile_name, profile_age = profile()\n",
    "print(profile_name)\n",
    "print(profile_age)"
   ]
  },
  {
   "cell_type": "markdown",
   "metadata": {},
   "source": [
    "It could be done with global, but not recommended. Do not try to use the below method."
   ]
  },
  {
   "cell_type": "code",
   "execution_count": 6,
   "metadata": {},
   "outputs": [
    {
     "name": "stdout",
     "output_type": "stream",
     "text": [
      "David\n",
      "26\n"
     ]
    }
   ],
   "source": [
    "def profile():\n",
    "    global name\n",
    "    global age\n",
    "    name = \"David\"\n",
    "    age = 26\n",
    "\n",
    "profile()\n",
    "print(name)\n",
    "print(age)"
   ]
  }
 ],
 "metadata": {
  "kernelspec": {
   "display_name": "Python 3",
   "language": "python",
   "name": "python3"
  },
  "language_info": {
   "codemirror_mode": {
    "name": "ipython",
    "version": 3
   },
   "file_extension": ".py",
   "mimetype": "text/x-python",
   "name": "python",
   "nbconvert_exporter": "python",
   "pygments_lexer": "ipython3",
   "version": "3.6.1"
  }
 },
 "nbformat": 4,
 "nbformat_minor": 2
}
