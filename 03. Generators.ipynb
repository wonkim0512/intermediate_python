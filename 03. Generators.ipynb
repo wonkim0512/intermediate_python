{
 "cells": [
  {
   "cell_type": "markdown",
   "metadata": {},
   "source": [
    "# Generators"
   ]
  },
  {
   "cell_type": "markdown",
   "metadata": {},
   "source": [
    "To understand generators, let's look into several concepts first.\n",
    "\n",
    "*\"An **iterator** is an object that enables a programmer to traverse a container, particularly lists. However, an **iterator** performs traversal and gives access to data elements in a container, but does not perform **iteration**.\"* - Wikipedia"
   ]
  },
  {
   "cell_type": "markdown",
   "metadata": {},
   "source": [
    "- ### Iterate ### \n",
    "\n",
    "perform or utter repeatedly"
   ]
  },
  {
   "cell_type": "markdown",
   "metadata": {},
   "source": [
    "- ### Iterable###\n",
    "\n",
    "An iterable is any object in Python which has an ```__iter__``` or a ```__getitem__``` method defined which returns an iterator or can take indexes. In short an iterable is any object which can provide us with an iterator."
   ]
  },
  {
   "cell_type": "markdown",
   "metadata": {},
   "source": [
    "- ### Iterator ###\n",
    "\n",
    "An iterator is any object in Python which ahs a next or ```__next__``` method defined."
   ]
  },
  {
   "cell_type": "markdown",
   "metadata": {},
   "source": [
    "- ### Iteration###\n",
    "\n",
    "The process of taking an item from something e.g a list. When we use a loop to loop over something it is called iteration."
   ]
  },
  {
   "cell_type": "markdown",
   "metadata": {},
   "source": [
    "- ### Generators###\n",
    "\n",
    "Generators are iterators, but you can iterate over them once. It's becuase they do not store all the values in memory, they generate the values on th fly. They do not **return** a value,  they **yield** it."
   ]
  },
  {
   "cell_type": "code",
   "execution_count": 5,
   "metadata": {},
   "outputs": [
    {
     "name": "stdout",
     "output_type": "stream",
     "text": [
      "0\n",
      "1\n",
      "2\n"
     ]
    }
   ],
   "source": [
    "def generator_function():\n",
    "    for i in range(3):\n",
    "        yield i\n",
    "        \n",
    "for item in generator_function():\n",
    "    print(item)"
   ]
  },
  {
   "cell_type": "markdown",
   "metadata": {},
   "source": [
    "It  is  not  really  useful  in  this  case.   Generators  are  best  for  calculating  large  sets  of results (particularly calculations involving loops themselves) where you don’t want to allocate the memory for all results at the same time.. Many Standard Library functions that return lists in Python 2 have been modified to return\n",
    "generators in Python 3 because generators require fewer resources."
   ]
  },
  {
   "cell_type": "code",
   "execution_count": 4,
   "metadata": {},
   "outputs": [
    {
     "name": "stdout",
     "output_type": "stream",
     "text": [
      "1\n",
      "1\n",
      "2\n",
      "3\n",
      "5\n",
      "8\n",
      "13\n",
      "21\n",
      "34\n",
      "55\n"
     ]
    }
   ],
   "source": [
    "def fibonacci(n):\n",
    "    a = b =1\n",
    "    for i in range(n):\n",
    "        yield a\n",
    "        a, b = b, a + b\n",
    "\n",
    "for x in fibonacci(10):\n",
    "    print(x)"
   ]
  },
  {
   "cell_type": "markdown",
   "metadata": {},
   "source": [
    "- ### next()###\n",
    "\n",
    "It allows us to access the next element of a sequence."
   ]
  },
  {
   "cell_type": "code",
   "execution_count": 7,
   "metadata": {},
   "outputs": [
    {
     "name": "stdout",
     "output_type": "stream",
     "text": [
      "0\n",
      "1\n",
      "2\n"
     ]
    }
   ],
   "source": [
    "gen = generator_function()\n",
    "print(next(gen))\n",
    "print(next(gen))\n",
    "print(next(gen))\n",
    "# print(next(gen)) # StopIteration  "
   ]
  },
  {
   "cell_type": "markdown",
   "metadata": {},
   "source": [
    "Basically this error informs us that all the values have been yielded. A **for** loop automatically catches this error and stops calling **next**"
   ]
  },
  {
   "cell_type": "markdown",
   "metadata": {},
   "source": [
    "- ### Iterable and Iterator###"
   ]
  },
  {
   "cell_type": "code",
   "execution_count": 9,
   "metadata": {},
   "outputs": [],
   "source": [
    "my_string = \"Won Kim\"\n",
    "# next(my_string) # TypeError: 'str' object is not an iterator"
   ]
  },
  {
   "cell_type": "markdown",
   "metadata": {},
   "source": [
    "The error says that str is not an iterator. It’s an iterable but not an iterator. This means that it supports iteration but we can't iterate over it directly. That's why we need **iterator**"
   ]
  },
  {
   "cell_type": "code",
   "execution_count": 11,
   "metadata": {},
   "outputs": [
    {
     "name": "stdout",
     "output_type": "stream",
     "text": [
      "W\n",
      "o\n"
     ]
    }
   ],
   "source": [
    "iterator = iter(my_string)\n",
    "print(next(iterator))\n",
    "print(next(iterator))"
   ]
  },
  {
   "cell_type": "code",
   "execution_count": 13,
   "metadata": {},
   "outputs": [],
   "source": [
    "my_integer = 920512\n",
    "# iterator = iter(my_integer) # TypeError: 'int' object is not iterable"
   ]
  }
 ],
 "metadata": {
  "kernelspec": {
   "display_name": "Python 3",
   "language": "python",
   "name": "python3"
  },
  "language_info": {
   "codemirror_mode": {
    "name": "ipython",
    "version": 3
   },
   "file_extension": ".py",
   "mimetype": "text/x-python",
   "name": "python",
   "nbconvert_exporter": "python",
   "pygments_lexer": "ipython3",
   "version": "3.6.1"
  }
 },
 "nbformat": 4,
 "nbformat_minor": 2
}
