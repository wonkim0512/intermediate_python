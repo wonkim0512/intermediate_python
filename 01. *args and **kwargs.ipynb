{
 "cells": [
  {
   "cell_type": "markdown",
   "metadata": {},
   "source": [
    "# \\*args and \\**kwargs"
   ]
  },
  {
   "cell_type": "markdown",
   "metadata": {},
   "source": [
    "### Usage of \\*args\n",
    "\n",
    "\\*args and \\*\\*kwargs allow\n",
    "you to pass a variable number of arguments to a function. What variable means here\n",
    "is that you do not know beforehand how many arguments can be passed to your function by the user so in this case you use these two keywords.  \\*args is used to send a non-keyworded variable length argument list to the function"
   ]
  },
  {
   "cell_type": "code",
   "execution_count": 1,
   "metadata": {},
   "outputs": [
    {
     "name": "stdout",
     "output_type": "stream",
     "text": [
      "first normal arg: Won Kim\n",
      "another arg through *args: 26\n",
      "another arg through *args: Data Engineer\n",
      "another arg through *args: Python\n"
     ]
    }
   ],
   "source": [
    "def variableArgs(f_arg, *args):\n",
    "    print(\"first normal arg: \" + f_arg)\n",
    "    for arg in args:\n",
    "        print('another arg through *args: ' + arg)\n",
    "        \n",
    "variableArgs(\"Won Kim\", \"26\", \"Data Engineer\", \"Python\")"
   ]
  },
  {
   "cell_type": "markdown",
   "metadata": {},
   "source": [
    "### Usage of \\**kwagrs\n",
    "\n",
    "\\*\\*kwargs allows you to pass\n",
    "keyworded variable length of arguments to a function.\n",
    "You should use \\*\\*kwargs if you want to handle named arguments in a function."
   ]
  },
  {
   "cell_type": "code",
   "execution_count": 2,
   "metadata": {},
   "outputs": [
    {
     "name": "stdout",
     "output_type": "stream",
     "text": [
      "{'name': 'Won Kim', 'age': 26, 'occupation': 'Data Engineer', 'language': 'Pyhton'}\n"
     ]
    }
   ],
   "source": [
    "def greet_me(**kwargs):\n",
    "    adict = {}\n",
    "    for key, value in kwargs.items():\n",
    "        adict[key] = value\n",
    "    print(adict)\n",
    "        \n",
    "greet_me(name = \"Won Kim\", age = 26, occupation = \"Data Engineer\", language = \"Pyhton\")"
   ]
  },
  {
   "cell_type": "code",
   "execution_count": 3,
   "metadata": {},
   "outputs": [
    {
     "name": "stdout",
     "output_type": "stream",
     "text": [
      "name = Won Kim\n"
     ]
    }
   ],
   "source": [
    "def greet_me(**kwargs):\n",
    "    for key, value in kwargs.items():\n",
    "        print(\"{} = {}\".format(key, value))\n",
    "        \n",
    "greet_me(name = \"Won Kim\")"
   ]
  },
  {
   "cell_type": "markdown",
   "metadata": {},
   "source": [
    "### Using \\*args and \\**kwargs to call a function\n",
    "\n",
    "Let's see how to call a function using \\*args and \\*\\*kwargs."
   ]
  },
  {
   "cell_type": "code",
   "execution_count": 4,
   "metadata": {
    "collapsed": true
   },
   "outputs": [],
   "source": [
    "def test_args_kwargs(arg1, arg2, arg3):\n",
    "    print(\"arg1: \", arg1)\n",
    "    print(\"arg2: \", arg2)\n",
    "    print(\"arg3: \", arg3)"
   ]
  },
  {
   "cell_type": "code",
   "execution_count": 5,
   "metadata": {},
   "outputs": [
    {
     "name": "stdout",
     "output_type": "stream",
     "text": [
      "arg1:  two\n",
      "arg2:  3\n",
      "arg3:  5\n"
     ]
    }
   ],
   "source": [
    "args = (\"two\", 3, 5)\n",
    "test_args_kwargs(*args)"
   ]
  },
  {
   "cell_type": "code",
   "execution_count": 6,
   "metadata": {},
   "outputs": [
    {
     "name": "stdout",
     "output_type": "stream",
     "text": [
      "arg1:  111\n",
      "arg2:  100\n",
      "arg3:  123\n"
     ]
    }
   ],
   "source": [
    "kwargs = {\"arg3\": 123, \"arg1\": 111, \"arg2\": 100}\n",
    "test_args_kwargs(**kwargs)"
   ]
  }
 ],
 "metadata": {
  "kernelspec": {
   "display_name": "Python 3",
   "language": "python",
   "name": "python3"
  },
  "language_info": {
   "codemirror_mode": {
    "name": "ipython",
    "version": 3
   },
   "file_extension": ".py",
   "mimetype": "text/x-python",
   "name": "python",
   "nbconvert_exporter": "python",
   "pygments_lexer": "ipython3",
   "version": "3.6.1"
  }
 },
 "nbformat": 4,
 "nbformat_minor": 2
}
